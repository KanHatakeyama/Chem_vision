{
 "cells": [
  {
   "cell_type": "code",
   "execution_count": 1,
   "metadata": {},
   "outputs": [
    {
     "name": "stderr",
     "output_type": "stream",
     "text": [
      "/home/setup/miniconda3/envs/vision/lib/python3.10/site-packages/tqdm/auto.py:21: TqdmWarning: IProgress not found. Please update jupyter and ipywidgets. See https://ipywidgets.readthedocs.io/en/stable/user_install.html\n",
      "  from .autonotebook import tqdm as notebook_tqdm\n"
     ]
    }
   ],
   "source": [
    "from transformers import Qwen2VLForConditionalGeneration, AutoTokenizer, AutoProcessor\n",
    "from qwen_vl_utils import process_vision_info\n",
    "from PIL import Image\n"
   ]
  },
  {
   "cell_type": "code",
   "execution_count": 2,
   "metadata": {},
   "outputs": [
    {
     "name": "stderr",
     "output_type": "stream",
     "text": [
      "`Qwen2VLRotaryEmbedding` can now be fully parameterized by passing the model config through the `config` argument. All other arguments will be removed in v4.46\n",
      "Loading checkpoint shards: 100%|██████████| 2/2 [00:00<00:00,  2.41it/s]\n"
     ]
    }
   ],
   "source": [
    "\n",
    "\n",
    "model_name=\"Qwen/Qwen2-VL-2B-Instruct\"\n",
    "\n",
    "# default: Load the model on the available device(s)\n",
    "model = Qwen2VLForConditionalGeneration.from_pretrained(\n",
    "   model_name , torch_dtype=\"auto\", device_map=\"auto\"\n",
    ")\n",
    "processor = AutoProcessor.from_pretrained(\n",
    "  model_name \n",
    ")\n"
   ]
  },
  {
   "cell_type": "code",
   "execution_count": 3,
   "metadata": {},
   "outputs": [],
   "source": [
    "\n",
    "#推論関数\n",
    "def process_image(\n",
    "    model,processor,\n",
    "    img_path,\n",
    "query=\"中身を解析して\",\n",
    "max_new_tokens=128,\n",
    "):\n",
    "\n",
    "    # 画像の準備\n",
    "    image = Image.open(img_path)\n",
    "\n",
    "    # メッセージの準備\n",
    "    messages = [\n",
    "        {\n",
    "            \"role\": \"user\",\n",
    "            \"content\": [\n",
    "                {\n",
    "                    \"type\": \"image\",\n",
    "                },\n",
    "                {\"type\": \"text\", \"text\": query},\n",
    "            ],\n",
    "        }\n",
    "    ]\n",
    "\n",
    "    # 入力の準備\n",
    "    text_prompt = processor.apply_chat_template(messages, add_generation_prompt=True)\n",
    "    inputs = processor(\n",
    "        text=[text_prompt], \n",
    "        images=[image], \n",
    "        padding=True, \n",
    "        return_tensors=\"pt\"\n",
    "    )\n",
    "    inputs = inputs.to(\"cuda\")\n",
    "\n",
    "    # 推論の実行\n",
    "    output_ids = model.generate(**inputs, max_new_tokens=max_new_tokens)\n",
    "    generated_ids = [\n",
    "        output_ids[len(input_ids) :]\n",
    "        for input_ids, output_ids in zip(inputs.input_ids, output_ids)\n",
    "    ]\n",
    "    output_text = processor.batch_decode(\n",
    "        generated_ids, skip_special_tokens=True, clean_up_tokenization_spaces=True\n",
    "    )\n",
    "    return output_text\n",
    "\n",
    "#推論\n",
    "path=\"../250107vision_embedding_test/images/random_frame_0.jpg\"\n",
    "query=\"この画像は何?\"\n",
    "text=process_image(model,processor,path,query)"
   ]
  },
  {
   "cell_type": "code",
   "execution_count": 4,
   "metadata": {},
   "outputs": [
    {
     "data": {
      "text/plain": [
       "['この画像は、科学実験や研究の場所を示しています。テーブルの上には、電子レンジや電子秤、試験管などの機器が配置されています。背景には、パソコンやモニター、キーボードなどが見られます。この場所は、科学実験や研究のための設備が整っていると推測できます。']"
      ]
     },
     "execution_count": 4,
     "metadata": {},
     "output_type": "execute_result"
    }
   ],
   "source": [
    "text"
   ]
  },
  {
   "cell_type": "code",
   "execution_count": 7,
   "metadata": {},
   "outputs": [
    {
     "name": "stdout",
     "output_type": "stream",
     "text": [
      "['この画像は、科学実験や研究の様子を示しています。以下に共通点と相違点を挙げます。\\n\\n共通点:\\n1. テーブルに設置されている機器や装置。\\n2. テーブルの上に置かれた小さな容器や試料。\\n3. テーブルの上に設置された電子秤。\\n4. テーブルの上に設置されたマウスやキーボード。\\n5. テーブルの上に設置されたコンピュータやモニター。\\n\\n相違点:\\n1. テーブルの形状や寸法が異なる。\\n2. テーブルの上に設置された機器や装置が異なる。\\n3. テーブルの上に置かれた試料や容器が異なる。\\n4. テーブルの上に設置された電子秤が異なる。\\n5. テーブルの上に設置されたマウスやキーボードが異なる。\\n6. テーブルの上に設置されたコンピュータやモニターが異なる。\\n\\nこれらの違いは、実験の種類や目的、研究の場所などにより異なります。']\n"
     ]
    }
   ],
   "source": [
    "# Messages containing multiple images and a text query\n",
    "messages = [\n",
    "    {\n",
    "        \"role\": \"user\",\n",
    "        \"content\": [\n",
    "            {\"type\": \"image\", \"image\": f\"{path}\"},\n",
    "            {\"type\": \"image\", \"image\": f\"{path}\"},\n",
    "            {\"type\": \"text\", \"text\": \"２つの画像の共通点と相違点を教えて\"},\n",
    "        ],\n",
    "    }\n",
    "]\n",
    "\n",
    "# Preparation for inference\n",
    "text = processor.apply_chat_template(\n",
    "    messages, tokenize=False, add_generation_prompt=True\n",
    ")\n",
    "image_inputs, video_inputs = process_vision_info(messages)\n",
    "inputs = processor(\n",
    "    text=[text],\n",
    "    images=image_inputs,\n",
    "    videos=video_inputs,\n",
    "    padding=True,\n",
    "    return_tensors=\"pt\",\n",
    ")\n",
    "inputs = inputs.to(\"cuda\")\n",
    "\n",
    "# Inference\n",
    "generated_ids = model.generate(**inputs, max_new_tokens=1280)\n",
    "generated_ids_trimmed = [\n",
    "    out_ids[len(in_ids) :] for in_ids, out_ids in zip(inputs.input_ids, generated_ids)\n",
    "]\n",
    "output_text = processor.batch_decode(\n",
    "    generated_ids_trimmed, skip_special_tokens=True, clean_up_tokenization_spaces=False\n",
    ")\n",
    "print(output_text)\n"
   ]
  },
  {
   "cell_type": "code",
   "execution_count": null,
   "metadata": {},
   "outputs": [],
   "source": []
  }
 ],
 "metadata": {
  "kernelspec": {
   "display_name": "vision",
   "language": "python",
   "name": "python3"
  },
  "language_info": {
   "codemirror_mode": {
    "name": "ipython",
    "version": 3
   },
   "file_extension": ".py",
   "mimetype": "text/x-python",
   "name": "python",
   "nbconvert_exporter": "python",
   "pygments_lexer": "ipython3",
   "version": "3.10.16"
  }
 },
 "nbformat": 4,
 "nbformat_minor": 2
}
