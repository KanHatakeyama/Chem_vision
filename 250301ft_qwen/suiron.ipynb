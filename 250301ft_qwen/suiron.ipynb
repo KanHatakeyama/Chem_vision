{
 "cells": [
  {
   "cell_type": "code",
   "execution_count": null,
   "metadata": {},
   "outputs": [
    {
     "name": "stderr",
     "output_type": "stream",
     "text": [
      "/home/setup/miniconda3/envs/qwenft/lib/python3.10/site-packages/tqdm/auto.py:21: TqdmWarning: IProgress not found. Please update jupyter and ipywidgets. See https://ipywidgets.readthedocs.io/en/stable/user_install.html\n",
      "  from .autonotebook import tqdm as notebook_tqdm\n",
      "[INFO:swift] Successfully registered `/home/setup/miniconda3/envs/qwenft/lib/python3.10/site-packages/swift/llm/data/dataset_info.json`\n",
      "[INFO:swift] No vLLM installed, if you are using vLLM, you will get `ImportError: cannot import name 'get_vllm_engine' from 'swift.llm'`\n",
      "[INFO:swift] No LMDeploy installed, if you are using LMDeploy, you will get `ImportError: cannot import name 'prepare_lmdeploy_engine_template' from 'swift.llm'`\n",
      "[INFO:swift] Downloading the model from ModelScope Hub, model_id: qwen/Qwen2-VL-2B-Instruct\n"
     ]
    },
    {
     "name": "stdout",
     "output_type": "stream",
     "text": [
      "Downloading Model to directory: /home/setup/.cache/modelscope/hub/models/qwen/Qwen2-VL-2B-Instruct\n"
     ]
    },
    {
     "name": "stderr",
     "output_type": "stream",
     "text": [
      "[WARNING:modelscope] Using branch: master as version is unstable, use with caution\n",
      "[INFO:swift] Loading the model using model_dir: /home/setup/.cache/modelscope/hub/models/qwen/Qwen2-VL-2B-Instruct\n",
      "[INFO:swift] model_kwargs: {'device_map': 'auto'}\n",
      "The argument `trust_remote_code` is to be used with Auto classes. It has no effect here and is ignored.\n",
      "`Qwen2VLRotaryEmbedding` can now be fully parameterized by passing the model config through the `config` argument. All other arguments will be removed in v4.46\n",
      "Loading checkpoint shards: 100%|██████████| 2/2 [00:01<00:00,  1.17it/s]\n",
      "[INFO:swift] model.max_model_len: 32768\n",
      "[INFO:swift] Global seed set to 42\n"
     ]
    }
   ],
   "source": [
    "import torch\n",
    "from swift.llm import (\n",
    "    get_model_tokenizer, get_template, inference, ModelType,\n",
    "    get_default_template_type, inference_stream\n",
    ")\n",
    "from swift.utils import seed_everything\n",
    "\n",
    "#モデル初期化\n",
    "model_type = ModelType.qwen2_vl_2b_instruct\n",
    "template_type = get_default_template_type(model_type)\n",
    "model, tokenizer = get_model_tokenizer(model_type, torch.bfloat16,\n",
    "                                       model_kwargs={'device_map': 'auto'})\n",
    "model.generation_config.max_new_tokens = 256\n",
    "template = get_template(template_type, tokenizer)\n",
    "seed_everything(42)\n"
   ]
  },
  {
   "cell_type": "code",
   "execution_count": 2,
   "metadata": {},
   "outputs": [
    {
     "name": "stderr",
     "output_type": "stream",
     "text": [
      "[INFO:swift] Downloading the model from ModelScope Hub, model_id: qwen/Qwen2-VL-2B-Instruct\n"
     ]
    },
    {
     "name": "stdout",
     "output_type": "stream",
     "text": [
      "Downloading Model to directory: /home/setup/.cache/modelscope/hub/models/qwen/Qwen2-VL-2B-Instruct\n"
     ]
    },
    {
     "name": "stderr",
     "output_type": "stream",
     "text": [
      "[WARNING:modelscope] Using branch: master as version is unstable, use with caution\n",
      "[INFO:swift] Loading the model using model_dir: /home/setup/.cache/modelscope/hub/models/qwen/Qwen2-VL-2B-Instruct\n",
      "[INFO:swift] Global seed set to 42\n"
     ]
    },
    {
     "data": {
      "text/plain": [
       "42"
      ]
     },
     "execution_count": 2,
     "metadata": {},
     "output_type": "execute_result"
    }
   ],
   "source": [
    "#tuned \n",
    "\n",
    "import torch\n",
    "from swift.llm import get_model_tokenizer, get_template, inference, ModelType,get_default_template_type\n",
    "from swift.utils import seed_everything\n",
    "from transformers import Qwen2VLForConditionalGeneration\n",
    "\n",
    "#モデルのパス\n",
    "local_model_path = \"/data/2024/Chem_vision/250301ft_qwen/output/qwen2-vl-2b-instruct/v3-20250301-045328/checkpoint-183\"\n",
    "local_model_path=\"/data/2024/Chem_vision/250301ft_qwen/output/qwen2-vl-2b-instruct/v4-20250301-164042/checkpoint-183\"\n",
    "#モデル初期化\n",
    "model_type = ModelType.qwen2_vl_2b_instruct\n",
    "template_type = get_default_template_type(model_type)\n",
    "\n",
    "#この方式でtokenizerのみ読み込み\n",
    "_, tokenizer_ft = get_model_tokenizer(model_type, torch.bfloat16,\n",
    "                                       load_model=False,\n",
    "                                       model_kwargs={'device_map': 'auto',\n",
    "                                                     })\n",
    "# ローカルモデルの読み込み\n",
    "model_ft = Qwen2VLForConditionalGeneration.from_pretrained(\n",
    "    local_model_path, \n",
    "    torch_dtype=torch.bfloat16,\n",
    "    device_map='auto',\n",
    ")\n",
    "model_ft.generation_config.max_new_tokens = 256\n",
    "template = get_template(template_type, tokenizer_ft)\n",
    "seed_everything(42)\n",
    "\n",
    "#推論\n",
    "#クエリを投げる\n",
    "\n"
   ]
  },
  {
   "cell_type": "code",
   "execution_count": 3,
   "metadata": {},
   "outputs": [
    {
     "name": "stderr",
     "output_type": "stream",
     "text": [
      "[INFO:swift] Setting image_factor: 28. You can adjust this hyperparameter through the environment variable: `IMAGE_FACTOR`.\n",
      "[INFO:swift] Setting resized_height: None. You can adjust this hyperparameter through the environment variable: `RESIZED_HEIGHT`.\n",
      "[INFO:swift] Setting resized_width: None. You can adjust this hyperparameter through the environment variable: `RESIZED_WIDTH`.\n",
      "[INFO:swift] Setting min_pixels: 3136. You can adjust this hyperparameter through the environment variable: `MIN_PIXELS`.\n",
      "[INFO:swift] Setting max_pixels: 12845056. You can adjust this hyperparameter through the environment variable: `MAX_PIXELS`.\n"
     ]
    },
    {
     "name": "stdout",
     "output_type": "stream",
     "text": [
      "query: <img>/data/2024/Chem_vision/250301ft_qwen/dataset/catalogue/A/A_0097.png</img>これはなんだい?\n",
      "response: これは「アズワン」製のミルです。ミルは、液体を高速で回転させ、その中に含まれる微粒子を分散させる装置です。このミルは、化学実験や生物実験など、様々な用途に使用されます。\n",
      "ft\n",
      "query: <img>/data/2024/Chem_vision/250301ft_qwen/dataset/catalogue/A/A_0097.png</img>これはなんだい?\n",
      "response: ミニマルクター(フロントタイプ) MCシリーズです｡\n"
     ]
    }
   ],
   "source": [
    "\n",
    "path_list=\"\"\"\n",
    "/data/2024/Chem_vision/250301ft_qwen/dataset/catalogue/A/A_0097.png\n",
    "\"\"\"\n",
    "path_list = path_list.strip().split('\\n')\n",
    "\n",
    "for target_url in path_list:\n",
    "    query = f\"\"\"<img>{target_url}</img>これはなんだい?\"\"\"\n",
    "    response, history = inference(model, template, query)\n",
    "    print(f'query: {query}')\n",
    "    print(f'response: {response}')\n",
    "\n",
    "print(\"ft\")\n",
    "for target_url in path_list:\n",
    "    query = f\"\"\"<img>{target_url}</img>これはなんだい?\"\"\"\n",
    "    response, history = inference(model_ft, template, query)\n",
    "    print(f'query: {query}')\n",
    "    print(f'response: {response}')"
   ]
  },
  {
   "cell_type": "code",
   "execution_count": null,
   "metadata": {},
   "outputs": [],
   "source": []
  }
 ],
 "metadata": {
  "kernelspec": {
   "display_name": "qwenft",
   "language": "python",
   "name": "python3"
  },
  "language_info": {
   "codemirror_mode": {
    "name": "ipython",
    "version": 3
   },
   "file_extension": ".py",
   "mimetype": "text/x-python",
   "name": "python",
   "nbconvert_exporter": "python",
   "pygments_lexer": "ipython3",
   "version": "3.10.16"
  }
 },
 "nbformat": 4,
 "nbformat_minor": 2
}
